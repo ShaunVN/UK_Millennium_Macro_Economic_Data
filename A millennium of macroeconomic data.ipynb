{
 "cells": [
  {
   "cell_type": "markdown",
   "metadata": {},
   "source": [
    "## Link to datasets used in Analysis\n",
    "\n",
    "https://www.bankofengland.co.uk/statistics/research-datasets\n",
    "A millennium of macroeconomic data"
   ]
  },
  {
   "cell_type": "code",
   "execution_count": 1,
   "metadata": {},
   "outputs": [],
   "source": [
    "#Importing of libraries\n",
    "import pandas as pd\n",
    "import matplotlib.pyplot as plt\n",
    "import numpy as np"
   ]
  },
  {
   "cell_type": "code",
   "execution_count": 2,
   "metadata": {},
   "outputs": [],
   "source": [
    "#Set file path variable to excel file \n",
    "#containing datasets\n",
    "f_path = (r'E:\\LinkedIn\\25_12_21\\a-millennium-of-macroeconomic-data-for-the-uk.xlsx')"
   ]
  },
  {
   "cell_type": "markdown",
   "metadata": {},
   "source": [
    "## Hours Worked Dataseta"
   ]
  },
  {
   "cell_type": "code",
   "execution_count": 3,
   "metadata": {},
   "outputs": [],
   "source": [
    "#Read in dataset\n",
    "#containing hours worked\n",
    "df = pd.read_excel(f_path, sheet_name = 'A54. Hours worked', header=2)\n"
   ]
  },
  {
   "cell_type": "code",
   "execution_count": 4,
   "metadata": {},
   "outputs": [
    {
     "data": {
      "text/html": [
       "<div>\n",
       "<style scoped>\n",
       "    .dataframe tbody tr th:only-of-type {\n",
       "        vertical-align: middle;\n",
       "    }\n",
       "\n",
       "    .dataframe tbody tr th {\n",
       "        vertical-align: top;\n",
       "    }\n",
       "\n",
       "    .dataframe thead th {\n",
       "        text-align: right;\n",
       "    }\n",
       "</style>\n",
       "<table border=\"1\" class=\"dataframe\">\n",
       "  <thead>\n",
       "    <tr style=\"text-align: right;\">\n",
       "      <th></th>\n",
       "      <th>Description</th>\n",
       "      <th>Total 'implied work days'  by Agricultural labourers in Southern England</th>\n",
       "      <th>Unnamed: 2</th>\n",
       "      <th>Total 'implied work days' by Building labourers in London</th>\n",
       "      <th>Unnamed: 4</th>\n",
       "      <th>Implied days of work from the incomes of those on annual contracts ('famuli')</th>\n",
       "      <th>Independent estimates of days worked</th>\n",
       "      <th>Unnamed: 7</th>\n",
       "      <th>Annual Average Working Hours, 1260-1770</th>\n",
       "      <th>Annual Average Working Hours 1760-1830</th>\n",
       "      <th>...</th>\n",
       "      <th>LFS Average Weekly Hours Worked - all workers.1</th>\n",
       "      <th>LFS Average Hours Worked per year - all workers</th>\n",
       "      <th>Unnamed: 45</th>\n",
       "      <th>Unnamed: 46</th>\n",
       "      <th>Composite series of Average Weekly Hours worked adjusted for part time work, sickness, holidays, and stoppages</th>\n",
       "      <th>Composite Series of Average hours worked per year</th>\n",
       "      <th>Unnamed: 49</th>\n",
       "      <th>Average weekly hours - full time adults 1972-1994</th>\n",
       "      <th>LFS Average Weekly Hours Worked - full time workers</th>\n",
       "      <th>Average weekly hours of full time workers  - spliced series</th>\n",
       "    </tr>\n",
       "  </thead>\n",
       "  <tbody>\n",
       "    <tr>\n",
       "      <th>0</th>\n",
       "      <td>Documentation</td>\n",
       "      <td>Implied days required to consume minimum accep...</td>\n",
       "      <td>10 yr moving average</td>\n",
       "      <td>Implied days required to consume minimum accep...</td>\n",
       "      <td>10 yr moving average</td>\n",
       "      <td>Required days worked per year needed for a cas...</td>\n",
       "      <td>NaN</td>\n",
       "      <td>NaN</td>\n",
       "      <td>Assumes an unchanged 10 hour day</td>\n",
       "      <td>Based on court records and witness accounts</td>\n",
       "      <td>...</td>\n",
       "      <td>Calendar year average observation</td>\n",
       "      <td>Calendar year average observation</td>\n",
       "      <td>NaN</td>\n",
       "      <td>NaN</td>\n",
       "      <td>NaN</td>\n",
       "      <td>NaN</td>\n",
       "      <td>NaN</td>\n",
       "      <td>Full time adults, April observation</td>\n",
       "      <td>NaN</td>\n",
       "      <td>NaN</td>\n",
       "    </tr>\n",
       "    <tr>\n",
       "      <th>1</th>\n",
       "      <td>Sources</td>\n",
       "      <td>Allen and Weisdorf (2011)</td>\n",
       "      <td>Allen and Weisdorf (2011)</td>\n",
       "      <td>Allen and Weisdorf (2011)</td>\n",
       "      <td>Allen and Weisdorf (2011)</td>\n",
       "      <td>Humphries and Weisdorf (2016)</td>\n",
       "      <td>Blanchard (1978)</td>\n",
       "      <td>Clark and van der Werf (1998)</td>\n",
       "      <td>This joined up series attempts to pick a way t...</td>\n",
       "      <td>Voth J.E.H. (2001) 'The Longest Years: New Est...</td>\n",
       "      <td>...</td>\n",
       "      <td>ONS: Series codes YBUS/MGRZ</td>\n",
       "      <td>52x Column N</td>\n",
       "      <td>NaN</td>\n",
       "      <td>NaN</td>\n",
       "      <td>NaN</td>\n",
       "      <td>NaN</td>\n",
       "      <td>NaN</td>\n",
       "      <td>New Earnings Survey</td>\n",
       "      <td>ONS: Series code YBUY</td>\n",
       "      <td>NaN</td>\n",
       "    </tr>\n",
       "    <tr>\n",
       "      <th>2</th>\n",
       "      <td>1260</td>\n",
       "      <td>NaN</td>\n",
       "      <td>NaN</td>\n",
       "      <td>NaN</td>\n",
       "      <td>NaN</td>\n",
       "      <td>184.454</td>\n",
       "      <td>NaN</td>\n",
       "      <td>NaN</td>\n",
       "      <td>2517.955846</td>\n",
       "      <td>NaN</td>\n",
       "      <td>...</td>\n",
       "      <td>NaN</td>\n",
       "      <td>NaN</td>\n",
       "      <td>NaN</td>\n",
       "      <td>NaN</td>\n",
       "      <td>45.381088</td>\n",
       "      <td>2359.816564</td>\n",
       "      <td>NaN</td>\n",
       "      <td>NaN</td>\n",
       "      <td>NaN</td>\n",
       "      <td>NaN</td>\n",
       "    </tr>\n",
       "    <tr>\n",
       "      <th>3</th>\n",
       "      <td>1261</td>\n",
       "      <td>NaN</td>\n",
       "      <td>NaN</td>\n",
       "      <td>NaN</td>\n",
       "      <td>NaN</td>\n",
       "      <td>184.298</td>\n",
       "      <td>NaN</td>\n",
       "      <td>NaN</td>\n",
       "      <td>2515.826311</td>\n",
       "      <td>NaN</td>\n",
       "      <td>...</td>\n",
       "      <td>NaN</td>\n",
       "      <td>NaN</td>\n",
       "      <td>NaN</td>\n",
       "      <td>NaN</td>\n",
       "      <td>45.342707</td>\n",
       "      <td>2357.820774</td>\n",
       "      <td>NaN</td>\n",
       "      <td>NaN</td>\n",
       "      <td>NaN</td>\n",
       "      <td>NaN</td>\n",
       "    </tr>\n",
       "    <tr>\n",
       "      <th>4</th>\n",
       "      <td>1262</td>\n",
       "      <td>NaN</td>\n",
       "      <td>NaN</td>\n",
       "      <td>NaN</td>\n",
       "      <td>NaN</td>\n",
       "      <td>184.146</td>\n",
       "      <td>NaN</td>\n",
       "      <td>NaN</td>\n",
       "      <td>2513.751381</td>\n",
       "      <td>NaN</td>\n",
       "      <td>...</td>\n",
       "      <td>NaN</td>\n",
       "      <td>NaN</td>\n",
       "      <td>NaN</td>\n",
       "      <td>NaN</td>\n",
       "      <td>45.305311</td>\n",
       "      <td>2355.876159</td>\n",
       "      <td>NaN</td>\n",
       "      <td>NaN</td>\n",
       "      <td>NaN</td>\n",
       "      <td>NaN</td>\n",
       "    </tr>\n",
       "  </tbody>\n",
       "</table>\n",
       "<p>5 rows × 53 columns</p>\n",
       "</div>"
      ],
      "text/plain": [
       "     Description  \\\n",
       "0  Documentation   \n",
       "1        Sources   \n",
       "2           1260   \n",
       "3           1261   \n",
       "4           1262   \n",
       "\n",
       "  Total 'implied work days'  by Agricultural labourers in Southern England  \\\n",
       "0  Implied days required to consume minimum accep...                         \n",
       "1                          Allen and Weisdorf (2011)                         \n",
       "2                                                NaN                         \n",
       "3                                                NaN                         \n",
       "4                                                NaN                         \n",
       "\n",
       "                  Unnamed: 2  \\\n",
       "0       10 yr moving average   \n",
       "1  Allen and Weisdorf (2011)   \n",
       "2                        NaN   \n",
       "3                        NaN   \n",
       "4                        NaN   \n",
       "\n",
       "  Total 'implied work days' by Building labourers in London  \\\n",
       "0  Implied days required to consume minimum accep...          \n",
       "1                          Allen and Weisdorf (2011)          \n",
       "2                                                NaN          \n",
       "3                                                NaN          \n",
       "4                                                NaN          \n",
       "\n",
       "                  Unnamed: 4  \\\n",
       "0       10 yr moving average   \n",
       "1  Allen and Weisdorf (2011)   \n",
       "2                        NaN   \n",
       "3                        NaN   \n",
       "4                        NaN   \n",
       "\n",
       "  Implied days of work from the incomes of those on annual contracts ('famuli')  \\\n",
       "0  Required days worked per year needed for a cas...                              \n",
       "1                      Humphries and Weisdorf (2016)                              \n",
       "2                                            184.454                              \n",
       "3                                            184.298                              \n",
       "4                                            184.146                              \n",
       "\n",
       "  Independent estimates of days worked                     Unnamed: 7  \\\n",
       "0                                  NaN                            NaN   \n",
       "1                     Blanchard (1978)  Clark and van der Werf (1998)   \n",
       "2                                  NaN                            NaN   \n",
       "3                                  NaN                            NaN   \n",
       "4                                  NaN                            NaN   \n",
       "\n",
       "             Annual Average Working Hours, 1260-1770  \\\n",
       "0                   Assumes an unchanged 10 hour day   \n",
       "1  This joined up series attempts to pick a way t...   \n",
       "2                                        2517.955846   \n",
       "3                                        2515.826311   \n",
       "4                                        2513.751381   \n",
       "\n",
       "              Annual Average Working Hours 1760-1830  ...  \\\n",
       "0        Based on court records and witness accounts  ...   \n",
       "1  Voth J.E.H. (2001) 'The Longest Years: New Est...  ...   \n",
       "2                                                NaN  ...   \n",
       "3                                                NaN  ...   \n",
       "4                                                NaN  ...   \n",
       "\n",
       "  LFS Average Weekly Hours Worked - all workers.1  \\\n",
       "0               Calendar year average observation   \n",
       "1                     ONS: Series codes YBUS/MGRZ   \n",
       "2                                             NaN   \n",
       "3                                             NaN   \n",
       "4                                             NaN   \n",
       "\n",
       "  LFS Average Hours Worked per year - all workers  Unnamed: 45 Unnamed: 46  \\\n",
       "0               Calendar year average observation          NaN         NaN   \n",
       "1                                    52x Column N          NaN         NaN   \n",
       "2                                             NaN          NaN         NaN   \n",
       "3                                             NaN          NaN         NaN   \n",
       "4                                             NaN          NaN         NaN   \n",
       "\n",
       "  Composite series of Average Weekly Hours worked adjusted for part time work, sickness, holidays, and stoppages  \\\n",
       "0                                                NaN                                                               \n",
       "1                                                NaN                                                               \n",
       "2                                          45.381088                                                               \n",
       "3                                          45.342707                                                               \n",
       "4                                          45.305311                                                               \n",
       "\n",
       "  Composite Series of Average hours worked per year Unnamed: 49  \\\n",
       "0                                               NaN         NaN   \n",
       "1                                               NaN         NaN   \n",
       "2                                       2359.816564         NaN   \n",
       "3                                       2357.820774         NaN   \n",
       "4                                       2355.876159         NaN   \n",
       "\n",
       "  Average weekly hours - full time adults 1972-1994  \\\n",
       "0               Full time adults, April observation   \n",
       "1                               New Earnings Survey   \n",
       "2                                               NaN   \n",
       "3                                               NaN   \n",
       "4                                               NaN   \n",
       "\n",
       "  LFS Average Weekly Hours Worked - full time workers  \\\n",
       "0                                                NaN    \n",
       "1                              ONS: Series code YBUY    \n",
       "2                                                NaN    \n",
       "3                                                NaN    \n",
       "4                                                NaN    \n",
       "\n",
       "  Average weekly hours of full time workers  - spliced series  \n",
       "0                                                NaN           \n",
       "1                                                NaN           \n",
       "2                                                NaN           \n",
       "3                                                NaN           \n",
       "4                                                NaN           \n",
       "\n",
       "[5 rows x 53 columns]"
      ]
     },
     "execution_count": 4,
     "metadata": {},
     "output_type": "execute_result"
    }
   ],
   "source": [
    "#Preview data\n",
    "df.head()"
   ]
  },
  {
   "cell_type": "code",
   "execution_count": 5,
   "metadata": {
    "scrolled": true
   },
   "outputs": [],
   "source": [
    "#Create a new dataset containing cut from larger data set \n",
    "#of Years and Average Hours woked per year\n",
    "df2 = df.loc[2:,('Description','Composite Series of Average hours worked per year')]"
   ]
  },
  {
   "cell_type": "code",
   "execution_count": 6,
   "metadata": {},
   "outputs": [
    {
     "data": {
      "text/html": [
       "<div>\n",
       "<style scoped>\n",
       "    .dataframe tbody tr th:only-of-type {\n",
       "        vertical-align: middle;\n",
       "    }\n",
       "\n",
       "    .dataframe tbody tr th {\n",
       "        vertical-align: top;\n",
       "    }\n",
       "\n",
       "    .dataframe thead th {\n",
       "        text-align: right;\n",
       "    }\n",
       "</style>\n",
       "<table border=\"1\" class=\"dataframe\">\n",
       "  <thead>\n",
       "    <tr style=\"text-align: right;\">\n",
       "      <th></th>\n",
       "      <th>Description</th>\n",
       "      <th>Composite Series of Average hours worked per year</th>\n",
       "    </tr>\n",
       "  </thead>\n",
       "  <tbody>\n",
       "    <tr>\n",
       "      <th>2</th>\n",
       "      <td>1260</td>\n",
       "      <td>2359.816564</td>\n",
       "    </tr>\n",
       "    <tr>\n",
       "      <th>3</th>\n",
       "      <td>1261</td>\n",
       "      <td>2357.820774</td>\n",
       "    </tr>\n",
       "    <tr>\n",
       "      <th>4</th>\n",
       "      <td>1262</td>\n",
       "      <td>2355.876159</td>\n",
       "    </tr>\n",
       "    <tr>\n",
       "      <th>5</th>\n",
       "      <td>1263</td>\n",
       "      <td>2353.982717</td>\n",
       "    </tr>\n",
       "    <tr>\n",
       "      <th>6</th>\n",
       "      <td>1264</td>\n",
       "      <td>2352.140450</td>\n",
       "    </tr>\n",
       "  </tbody>\n",
       "</table>\n",
       "</div>"
      ],
      "text/plain": [
       "  Description  Composite Series of Average hours worked per year\n",
       "2        1260                                        2359.816564\n",
       "3        1261                                        2357.820774\n",
       "4        1262                                        2355.876159\n",
       "5        1263                                        2353.982717\n",
       "6        1264                                        2352.140450"
      ]
     },
     "execution_count": 6,
     "metadata": {},
     "output_type": "execute_result"
    }
   ],
   "source": [
    "#Preview dataset\n",
    "df2.head()"
   ]
  },
  {
   "cell_type": "code",
   "execution_count": 7,
   "metadata": {},
   "outputs": [],
   "source": [
    "#Rename the 'Description' column to 'year'\n",
    "df2.rename(columns={'Description':'Year'},inplace=True)"
   ]
  },
  {
   "cell_type": "code",
   "execution_count": 8,
   "metadata": {},
   "outputs": [],
   "source": [
    "#Make Year Column the index\n",
    "df2.set_index(['Year'],inplace=True)\n"
   ]
  },
  {
   "cell_type": "code",
   "execution_count": 9,
   "metadata": {
    "scrolled": true
   },
   "outputs": [
    {
     "data": {
      "text/html": [
       "<div>\n",
       "<style scoped>\n",
       "    .dataframe tbody tr th:only-of-type {\n",
       "        vertical-align: middle;\n",
       "    }\n",
       "\n",
       "    .dataframe tbody tr th {\n",
       "        vertical-align: top;\n",
       "    }\n",
       "\n",
       "    .dataframe thead th {\n",
       "        text-align: right;\n",
       "    }\n",
       "</style>\n",
       "<table border=\"1\" class=\"dataframe\">\n",
       "  <thead>\n",
       "    <tr style=\"text-align: right;\">\n",
       "      <th></th>\n",
       "      <th>Composite Series of Average hours worked per year</th>\n",
       "    </tr>\n",
       "    <tr>\n",
       "      <th>Year</th>\n",
       "      <th></th>\n",
       "    </tr>\n",
       "  </thead>\n",
       "  <tbody>\n",
       "    <tr>\n",
       "      <th>1260</th>\n",
       "      <td>2359.816564</td>\n",
       "    </tr>\n",
       "    <tr>\n",
       "      <th>1261</th>\n",
       "      <td>2357.820774</td>\n",
       "    </tr>\n",
       "    <tr>\n",
       "      <th>1262</th>\n",
       "      <td>2355.876159</td>\n",
       "    </tr>\n",
       "    <tr>\n",
       "      <th>1263</th>\n",
       "      <td>2353.982717</td>\n",
       "    </tr>\n",
       "    <tr>\n",
       "      <th>1264</th>\n",
       "      <td>2352.140450</td>\n",
       "    </tr>\n",
       "  </tbody>\n",
       "</table>\n",
       "</div>"
      ],
      "text/plain": [
       "      Composite Series of Average hours worked per year\n",
       "Year                                                   \n",
       "1260                                        2359.816564\n",
       "1261                                        2357.820774\n",
       "1262                                        2355.876159\n",
       "1263                                        2353.982717\n",
       "1264                                        2352.140450"
      ]
     },
     "execution_count": 9,
     "metadata": {},
     "output_type": "execute_result"
    }
   ],
   "source": [
    "#Preview after making cahnge\n",
    "df2.head()"
   ]
  },
  {
   "cell_type": "code",
   "execution_count": 10,
   "metadata": {
    "scrolled": true
   },
   "outputs": [
    {
     "data": {
      "text/plain": [
       "(1760.0, 2053.8)"
      ]
     },
     "execution_count": 10,
     "metadata": {},
     "output_type": "execute_result"
    },
    {
     "data": {
      "image/png": "[encoded data removed]",
      "text/plain": [
       "<Figure size 1080x720 with 1 Axes>"
      ]
     },
     "metadata": {
      "needs_background": "light"
     },
     "output_type": "display_data"
    }
   ],
   "source": [
    "#Plot the numbers\n",
    "#Start the graph from 1760 \n",
    "#Increase plot size\n",
    "df2.plot(figsize=(15,10))\n",
    "plt.xlim(1760,)"
   ]
  },
  {
   "cell_type": "markdown",
   "metadata": {},
   "source": [
    "## Productivity dataset"
   ]
  },
  {
   "cell_type": "code",
   "execution_count": 11,
   "metadata": {},
   "outputs": [],
   "source": [
    "#Create dataframe for Productivity\n",
    "labourprod = pd.read_excel(f_path, sheet_name = 'A56. Productivity', header = 2)"
   ]
  },
  {
   "cell_type": "code",
   "execution_count": 12,
   "metadata": {},
   "outputs": [
    {
     "data": {
      "text/html": [
       "<div>\n",
       "<style scoped>\n",
       "    .dataframe tbody tr th:only-of-type {\n",
       "        vertical-align: middle;\n",
       "    }\n",
       "\n",
       "    .dataframe tbody tr th {\n",
       "        vertical-align: top;\n",
       "    }\n",
       "\n",
       "    .dataframe thead th {\n",
       "        text-align: right;\n",
       "    }\n",
       "</style>\n",
       "<table border=\"1\" class=\"dataframe\">\n",
       "  <thead>\n",
       "    <tr style=\"text-align: right;\">\n",
       "      <th></th>\n",
       "      <th>Description</th>\n",
       "      <th>Labour share</th>\n",
       "      <th>Unnamed: 2</th>\n",
       "      <th>GDP growth at factor cost</th>\n",
       "      <th>Growth in labour input</th>\n",
       "      <th>Unnamed: 5</th>\n",
       "      <th>Unnamed: 6</th>\n",
       "      <th>Growth in non-dwellings capital input</th>\n",
       "      <th>TFP growth</th>\n",
       "      <th>Unnamed: 9</th>\n",
       "      <th>...</th>\n",
       "      <th>Labour productivity per head</th>\n",
       "      <th>Unnamed: 13</th>\n",
       "      <th>Labour productivity per hour</th>\n",
       "      <th>Unnamed: 15</th>\n",
       "      <th>Labour productivity per head.1</th>\n",
       "      <th>Labour productivity per hour.1</th>\n",
       "      <th>Labour productivity per head.2</th>\n",
       "      <th>Labour productivity per hour.2</th>\n",
       "      <th>Unnamed: 20</th>\n",
       "      <th>Unnamed: 21</th>\n",
       "    </tr>\n",
       "  </thead>\n",
       "  <tbody>\n",
       "    <tr>\n",
       "      <th>0</th>\n",
       "      <td>Documentation</td>\n",
       "      <td>Wage share in National Income for England</td>\n",
       "      <td>(Compensation per employee * Total in employme...</td>\n",
       "      <td>Great Britain only to 1855</td>\n",
       "      <td>Great Britain only to 1855</td>\n",
       "      <td>o/w heads</td>\n",
       "      <td>o/w hours</td>\n",
       "      <td>Great Britain only to 1850</td>\n",
       "      <td>Great Britain only to 1855</td>\n",
       "      <td>10 year moving average</td>\n",
       "      <td>...</td>\n",
       "      <td>2013=100</td>\n",
       "      <td>2013=100</td>\n",
       "      <td>2013=100</td>\n",
       "      <td>2013=100</td>\n",
       "      <td>growth rate based on GDP at factor cost</td>\n",
       "      <td>growth rate based on GDP at factor cost</td>\n",
       "      <td>growth rate based on GDP at basic prices</td>\n",
       "      <td>growth rate based on GDP at basic prices</td>\n",
       "      <td>NaN</td>\n",
       "      <td>NaN</td>\n",
       "    </tr>\n",
       "    <tr>\n",
       "      <th>1</th>\n",
       "      <td>Sources</td>\n",
       "      <td>Clark (2009)</td>\n",
       "      <td>Mitchell (1988) and ONS</td>\n",
       "      <td>NaN</td>\n",
       "      <td>based on Feinstein's GB estimates prior to 1855</td>\n",
       "      <td>NaN</td>\n",
       "      <td>NB uses the increase in average weekly hours b...</td>\n",
       "      <td>NaN</td>\n",
       "      <td>NaN</td>\n",
       "      <td>NaN</td>\n",
       "      <td>...</td>\n",
       "      <td>Uses GDP at factor cost. Great Britain growth ...</td>\n",
       "      <td>Uses GDP at basic prices. Great Britain growth...</td>\n",
       "      <td>Uses GDP at factor cost.  Great Britain growth...</td>\n",
       "      <td>Uses GDP at basic prices. Great Britain growth...</td>\n",
       "      <td>Great Britain growth rates prior to 1855</td>\n",
       "      <td>Great Britain growth rates prior to 1855</td>\n",
       "      <td>Great Britain growth rates prior to 1855</td>\n",
       "      <td>Great Britain growth rates prior to 1855</td>\n",
       "      <td>10 yr ave</td>\n",
       "      <td>10 yr ave</td>\n",
       "    </tr>\n",
       "    <tr>\n",
       "      <th>2</th>\n",
       "      <td>1760</td>\n",
       "      <td>0.584</td>\n",
       "      <td>NaN</td>\n",
       "      <td>2.906033</td>\n",
       "      <td>NaN</td>\n",
       "      <td>NaN</td>\n",
       "      <td>NaN</td>\n",
       "      <td>NaN</td>\n",
       "      <td>NaN</td>\n",
       "      <td>NaN</td>\n",
       "      <td>...</td>\n",
       "      <td>6.207532</td>\n",
       "      <td>5.993902</td>\n",
       "      <td>3.876609</td>\n",
       "      <td>3.743197</td>\n",
       "      <td>NaN</td>\n",
       "      <td>NaN</td>\n",
       "      <td>NaN</td>\n",
       "      <td>NaN</td>\n",
       "      <td>NaN</td>\n",
       "      <td>NaN</td>\n",
       "    </tr>\n",
       "    <tr>\n",
       "      <th>3</th>\n",
       "      <td>1761</td>\n",
       "      <td>0.584</td>\n",
       "      <td>NaN</td>\n",
       "      <td>3.980658</td>\n",
       "      <td>1.912035</td>\n",
       "      <td>1.261542</td>\n",
       "      <td>0.642389</td>\n",
       "      <td>0.471785</td>\n",
       "      <td>2.667767</td>\n",
       "      <td>NaN</td>\n",
       "      <td>...</td>\n",
       "      <td>6.374219</td>\n",
       "      <td>6.154852</td>\n",
       "      <td>3.955297</td>\n",
       "      <td>3.819177</td>\n",
       "      <td>2.68524</td>\n",
       "      <td>2.029812</td>\n",
       "      <td>2.68524</td>\n",
       "      <td>2.029812</td>\n",
       "      <td>NaN</td>\n",
       "      <td>NaN</td>\n",
       "    </tr>\n",
       "    <tr>\n",
       "      <th>4</th>\n",
       "      <td>1762</td>\n",
       "      <td>0.584</td>\n",
       "      <td>NaN</td>\n",
       "      <td>-2.781653</td>\n",
       "      <td>-0.023781</td>\n",
       "      <td>-0.661918</td>\n",
       "      <td>0.642389</td>\n",
       "      <td>0.471785</td>\n",
       "      <td>-2.964027</td>\n",
       "      <td>NaN</td>\n",
       "      <td>...</td>\n",
       "      <td>6.238202</td>\n",
       "      <td>6.023517</td>\n",
       "      <td>3.846189</td>\n",
       "      <td>3.713824</td>\n",
       "      <td>-2.133859</td>\n",
       "      <td>-2.758527</td>\n",
       "      <td>-2.133859</td>\n",
       "      <td>-2.758527</td>\n",
       "      <td>NaN</td>\n",
       "      <td>NaN</td>\n",
       "    </tr>\n",
       "  </tbody>\n",
       "</table>\n",
       "<p>5 rows × 22 columns</p>\n",
       "</div>"
      ],
      "text/plain": [
       "     Description                               Labour share  \\\n",
       "0  Documentation  Wage share in National Income for England   \n",
       "1        Sources                               Clark (2009)   \n",
       "2           1760                                      0.584   \n",
       "3           1761                                      0.584   \n",
       "4           1762                                      0.584   \n",
       "\n",
       "                                          Unnamed: 2  \\\n",
       "0  (Compensation per employee * Total in employme...   \n",
       "1                            Mitchell (1988) and ONS   \n",
       "2                                                NaN   \n",
       "3                                                NaN   \n",
       "4                                                NaN   \n",
       "\n",
       "    GDP growth at factor cost  \\\n",
       "0  Great Britain only to 1855   \n",
       "1                         NaN   \n",
       "2                    2.906033   \n",
       "3                    3.980658   \n",
       "4                   -2.781653   \n",
       "\n",
       "                            Growth in labour input Unnamed: 5  \\\n",
       "0                       Great Britain only to 1855  o/w heads   \n",
       "1  based on Feinstein's GB estimates prior to 1855        NaN   \n",
       "2                                              NaN        NaN   \n",
       "3                                         1.912035   1.261542   \n",
       "4                                        -0.023781  -0.661918   \n",
       "\n",
       "                                          Unnamed: 6  \\\n",
       "0                                          o/w hours   \n",
       "1  NB uses the increase in average weekly hours b...   \n",
       "2                                                NaN   \n",
       "3                                           0.642389   \n",
       "4                                           0.642389   \n",
       "\n",
       "  Growth in non-dwellings capital input                  TFP growth  \\\n",
       "0            Great Britain only to 1850  Great Britain only to 1855   \n",
       "1                                   NaN                         NaN   \n",
       "2                                   NaN                         NaN   \n",
       "3                              0.471785                    2.667767   \n",
       "4                              0.471785                   -2.964027   \n",
       "\n",
       "               Unnamed: 9  ...  \\\n",
       "0  10 year moving average  ...   \n",
       "1                     NaN  ...   \n",
       "2                     NaN  ...   \n",
       "3                     NaN  ...   \n",
       "4                     NaN  ...   \n",
       "\n",
       "                        Labour productivity per head  \\\n",
       "0                                           2013=100   \n",
       "1  Uses GDP at factor cost. Great Britain growth ...   \n",
       "2                                           6.207532   \n",
       "3                                           6.374219   \n",
       "4                                           6.238202   \n",
       "\n",
       "                                         Unnamed: 13  \\\n",
       "0                                           2013=100   \n",
       "1  Uses GDP at basic prices. Great Britain growth...   \n",
       "2                                           5.993902   \n",
       "3                                           6.154852   \n",
       "4                                           6.023517   \n",
       "\n",
       "                        Labour productivity per hour  \\\n",
       "0                                           2013=100   \n",
       "1  Uses GDP at factor cost.  Great Britain growth...   \n",
       "2                                           3.876609   \n",
       "3                                           3.955297   \n",
       "4                                           3.846189   \n",
       "\n",
       "                                         Unnamed: 15  \\\n",
       "0                                           2013=100   \n",
       "1  Uses GDP at basic prices. Great Britain growth...   \n",
       "2                                           3.743197   \n",
       "3                                           3.819177   \n",
       "4                                           3.713824   \n",
       "\n",
       "             Labour productivity per head.1  \\\n",
       "0   growth rate based on GDP at factor cost   \n",
       "1  Great Britain growth rates prior to 1855   \n",
       "2                                       NaN   \n",
       "3                                   2.68524   \n",
       "4                                 -2.133859   \n",
       "\n",
       "             Labour productivity per hour.1  \\\n",
       "0   growth rate based on GDP at factor cost   \n",
       "1  Great Britain growth rates prior to 1855   \n",
       "2                                       NaN   \n",
       "3                                  2.029812   \n",
       "4                                 -2.758527   \n",
       "\n",
       "             Labour productivity per head.2  \\\n",
       "0  growth rate based on GDP at basic prices   \n",
       "1  Great Britain growth rates prior to 1855   \n",
       "2                                       NaN   \n",
       "3                                   2.68524   \n",
       "4                                 -2.133859   \n",
       "\n",
       "             Labour productivity per hour.2 Unnamed: 20 Unnamed: 21  \n",
       "0  growth rate based on GDP at basic prices         NaN         NaN  \n",
       "1  Great Britain growth rates prior to 1855   10 yr ave   10 yr ave  \n",
       "2                                       NaN         NaN         NaN  \n",
       "3                                  2.029812         NaN         NaN  \n",
       "4                                 -2.758527         NaN         NaN  \n",
       "\n",
       "[5 rows x 22 columns]"
      ]
     },
     "execution_count": 12,
     "metadata": {},
     "output_type": "execute_result"
    }
   ],
   "source": [
    "#Preview data\n",
    "labourprod.head()"
   ]
  },
  {
   "cell_type": "code",
   "execution_count": 13,
   "metadata": {},
   "outputs": [],
   "source": [
    "#Create new dataset to only contain relevant columns\n",
    "labourprod_2 = labourprod.loc[2:,('Description','Labour productivity per hour')]"
   ]
  },
  {
   "cell_type": "code",
   "execution_count": 14,
   "metadata": {
    "scrolled": true
   },
   "outputs": [
    {
     "data": {
      "text/html": [
       "<div>\n",
       "<style scoped>\n",
       "    .dataframe tbody tr th:only-of-type {\n",
       "        vertical-align: middle;\n",
       "    }\n",
       "\n",
       "    .dataframe tbody tr th {\n",
       "        vertical-align: top;\n",
       "    }\n",
       "\n",
       "    .dataframe thead th {\n",
       "        text-align: right;\n",
       "    }\n",
       "</style>\n",
       "<table border=\"1\" class=\"dataframe\">\n",
       "  <thead>\n",
       "    <tr style=\"text-align: right;\">\n",
       "      <th></th>\n",
       "      <th>Description</th>\n",
       "      <th>Labour productivity per hour</th>\n",
       "    </tr>\n",
       "  </thead>\n",
       "  <tbody>\n",
       "    <tr>\n",
       "      <th>2</th>\n",
       "      <td>1760</td>\n",
       "      <td>3.876609</td>\n",
       "    </tr>\n",
       "    <tr>\n",
       "      <th>3</th>\n",
       "      <td>1761</td>\n",
       "      <td>3.955297</td>\n",
       "    </tr>\n",
       "    <tr>\n",
       "      <th>4</th>\n",
       "      <td>1762</td>\n",
       "      <td>3.846189</td>\n",
       "    </tr>\n",
       "    <tr>\n",
       "      <th>5</th>\n",
       "      <td>1763</td>\n",
       "      <td>3.834284</td>\n",
       "    </tr>\n",
       "    <tr>\n",
       "      <th>6</th>\n",
       "      <td>1764</td>\n",
       "      <td>3.801639</td>\n",
       "    </tr>\n",
       "  </tbody>\n",
       "</table>\n",
       "</div>"
      ],
      "text/plain": [
       "  Description Labour productivity per hour\n",
       "2        1760                     3.876609\n",
       "3        1761                     3.955297\n",
       "4        1762                     3.846189\n",
       "5        1763                     3.834284\n",
       "6        1764                     3.801639"
      ]
     },
     "execution_count": 14,
     "metadata": {},
     "output_type": "execute_result"
    }
   ],
   "source": [
    "# Preview new productivity dataset\n",
    "labourprod_2.head()"
   ]
  },
  {
   "cell_type": "code",
   "execution_count": 15,
   "metadata": {},
   "outputs": [],
   "source": [
    "#Change column name\n",
    "labourprod_2.rename(columns={'Description':'Year'},inplace=True)\n",
    "#Set column year as index\n",
    "labourprod_2.set_index('Year', inplace= True)"
   ]
  },
  {
   "cell_type": "code",
   "execution_count": 16,
   "metadata": {},
   "outputs": [
    {
     "data": {
      "text/plain": [
       "<AxesSubplot:xlabel='Year'>"
      ]
     },
     "execution_count": 16,
     "metadata": {},
     "output_type": "execute_result"
    },
    {
     "data": {
      "image/png": "[encoded data removed]",
      "text/plain": [
       "<Figure size 1080x720 with 1 Axes>"
      ]
     },
     "metadata": {
      "needs_background": "light"
     },
     "output_type": "display_data"
    }
   ],
   "source": [
    "#Plot productivity data\n",
    "labourprod_2.plot(figsize=(15,10))"
   ]
  },
  {
   "cell_type": "code",
   "execution_count": 17,
   "metadata": {},
   "outputs": [
    {
     "data": {
      "image/png": "[encoded data removed]",
      "text/plain": [
       "<Figure size 432x288 with 2 Axes>"
      ]
     },
     "metadata": {
      "needs_background": "light"
     },
     "output_type": "display_data"
    }
   ],
   "source": [
    "#Create combined graph of labour hours and productivity\n",
    "fig,ax = plt.subplots()\n",
    "#First use hours dataset\n",
    "ax.plot(df2)\n",
    "ax.set_xlabel('Year',fontsize='14')\n",
    "ax.set_ylabel('Average hours worked per year',fontsize=14)\n",
    "#Create shared x axis\n",
    "ax2=ax.twinx()\n",
    "#Set ax2 as Productivity data\n",
    "ax2.plot(labourprod_2,color='red',ls='--')\n",
    "ax2.set_ylabel('Labour Productivity ph')\n",
    "#Start timeline from 1750 to end \n",
    "plt.xlim(1750,)\n",
    "plt.show()\n",
    "#Save graph\n",
    "fig.savefig(r'E:\\LinkedIn\\25_12_21\\productivity.jpg')"
   ]
  },
  {
   "cell_type": "markdown",
   "metadata": {},
   "source": [
    "## First Industrial revolution (1760 – c. 1840)"
   ]
  },
  {
   "cell_type": "markdown",
   "metadata": {},
   "source": [
    "### Hours Worked Dataseta "
   ]
  },
  {
   "cell_type": "code",
   "execution_count": 18,
   "metadata": {},
   "outputs": [],
   "source": [
    "df_fir = df2.loc[1760:1840,:]"
   ]
  },
  {
   "cell_type": "code",
   "execution_count": 19,
   "metadata": {
    "scrolled": true
   },
   "outputs": [
    {
     "data": {
      "text/html": [
       "<div>\n",
       "<style scoped>\n",
       "    .dataframe tbody tr th:only-of-type {\n",
       "        vertical-align: middle;\n",
       "    }\n",
       "\n",
       "    .dataframe tbody tr th {\n",
       "        vertical-align: top;\n",
       "    }\n",
       "\n",
       "    .dataframe thead th {\n",
       "        text-align: right;\n",
       "    }\n",
       "</style>\n",
       "<table border=\"1\" class=\"dataframe\">\n",
       "  <thead>\n",
       "    <tr style=\"text-align: right;\">\n",
       "      <th></th>\n",
       "      <th>Composite Series of Average hours worked per year</th>\n",
       "    </tr>\n",
       "    <tr>\n",
       "      <th>Year</th>\n",
       "      <th></th>\n",
       "    </tr>\n",
       "  </thead>\n",
       "  <tbody>\n",
       "    <tr>\n",
       "      <th>1760</th>\n",
       "      <td>2667.541183</td>\n",
       "    </tr>\n",
       "    <tr>\n",
       "      <th>1761</th>\n",
       "      <td>2684.677169</td>\n",
       "    </tr>\n",
       "    <tr>\n",
       "      <th>1762</th>\n",
       "      <td>2701.923234</td>\n",
       "    </tr>\n",
       "    <tr>\n",
       "      <th>1763</th>\n",
       "      <td>2719.280087</td>\n",
       "    </tr>\n",
       "    <tr>\n",
       "      <th>1764</th>\n",
       "      <td>2736.748438</td>\n",
       "    </tr>\n",
       "    <tr>\n",
       "      <th>...</th>\n",
       "      <td>...</td>\n",
       "    </tr>\n",
       "    <tr>\n",
       "      <th>1836</th>\n",
       "      <td>3433.569770</td>\n",
       "    </tr>\n",
       "    <tr>\n",
       "      <th>1837</th>\n",
       "      <td>3426.670284</td>\n",
       "    </tr>\n",
       "    <tr>\n",
       "      <th>1838</th>\n",
       "      <td>3419.784662</td>\n",
       "    </tr>\n",
       "    <tr>\n",
       "      <th>1839</th>\n",
       "      <td>3412.912876</td>\n",
       "    </tr>\n",
       "    <tr>\n",
       "      <th>1840</th>\n",
       "      <td>3406.054898</td>\n",
       "    </tr>\n",
       "  </tbody>\n",
       "</table>\n",
       "<p>81 rows × 1 columns</p>\n",
       "</div>"
      ],
      "text/plain": [
       "      Composite Series of Average hours worked per year\n",
       "Year                                                   \n",
       "1760                                        2667.541183\n",
       "1761                                        2684.677169\n",
       "1762                                        2701.923234\n",
       "1763                                        2719.280087\n",
       "1764                                        2736.748438\n",
       "...                                                 ...\n",
       "1836                                        3433.569770\n",
       "1837                                        3426.670284\n",
       "1838                                        3419.784662\n",
       "1839                                        3412.912876\n",
       "1840                                        3406.054898\n",
       "\n",
       "[81 rows x 1 columns]"
      ]
     },
     "execution_count": 19,
     "metadata": {},
     "output_type": "execute_result"
    }
   ],
   "source": [
    "df_fir"
   ]
  },
  {
   "cell_type": "markdown",
   "metadata": {},
   "source": [
    "#### Insights into hours worked"
   ]
  },
  {
   "cell_type": "code",
   "execution_count": 20,
   "metadata": {
    "scrolled": true
   },
   "outputs": [
    {
     "data": {
      "text/html": [
       "<div>\n",
       "<style scoped>\n",
       "    .dataframe tbody tr th:only-of-type {\n",
       "        vertical-align: middle;\n",
       "    }\n",
       "\n",
       "    .dataframe tbody tr th {\n",
       "        vertical-align: top;\n",
       "    }\n",
       "\n",
       "    .dataframe thead th {\n",
       "        text-align: right;\n",
       "    }\n",
       "</style>\n",
       "<table border=\"1\" class=\"dataframe\">\n",
       "  <thead>\n",
       "    <tr style=\"text-align: right;\">\n",
       "      <th></th>\n",
       "      <th>Composite Series of Average hours worked per year</th>\n",
       "    </tr>\n",
       "    <tr>\n",
       "      <th>Year</th>\n",
       "      <th></th>\n",
       "    </tr>\n",
       "  </thead>\n",
       "  <tbody>\n",
       "    <tr>\n",
       "      <th>1830</th>\n",
       "      <td>3475.259398</td>\n",
       "    </tr>\n",
       "    <tr>\n",
       "      <th>1829</th>\n",
       "      <td>3474.288978</td>\n",
       "    </tr>\n",
       "    <tr>\n",
       "      <th>1828</th>\n",
       "      <td>3473.318830</td>\n",
       "    </tr>\n",
       "    <tr>\n",
       "      <th>1827</th>\n",
       "      <td>3472.348952</td>\n",
       "    </tr>\n",
       "    <tr>\n",
       "      <th>1826</th>\n",
       "      <td>3471.379346</td>\n",
       "    </tr>\n",
       "    <tr>\n",
       "      <th>...</th>\n",
       "      <td>...</td>\n",
       "    </tr>\n",
       "    <tr>\n",
       "      <th>1764</th>\n",
       "      <td>2736.748438</td>\n",
       "    </tr>\n",
       "    <tr>\n",
       "      <th>1763</th>\n",
       "      <td>2719.280087</td>\n",
       "    </tr>\n",
       "    <tr>\n",
       "      <th>1762</th>\n",
       "      <td>2701.923234</td>\n",
       "    </tr>\n",
       "    <tr>\n",
       "      <th>1761</th>\n",
       "      <td>2684.677169</td>\n",
       "    </tr>\n",
       "    <tr>\n",
       "      <th>1760</th>\n",
       "      <td>2667.541183</td>\n",
       "    </tr>\n",
       "  </tbody>\n",
       "</table>\n",
       "<p>81 rows × 1 columns</p>\n",
       "</div>"
      ],
      "text/plain": [
       "      Composite Series of Average hours worked per year\n",
       "Year                                                   \n",
       "1830                                        3475.259398\n",
       "1829                                        3474.288978\n",
       "1828                                        3473.318830\n",
       "1827                                        3472.348952\n",
       "1826                                        3471.379346\n",
       "...                                                 ...\n",
       "1764                                        2736.748438\n",
       "1763                                        2719.280087\n",
       "1762                                        2701.923234\n",
       "1761                                        2684.677169\n",
       "1760                                        2667.541183\n",
       "\n",
       "[81 rows x 1 columns]"
      ]
     },
     "execution_count": 20,
     "metadata": {},
     "output_type": "execute_result"
    }
   ],
   "source": [
    "df_fir.sort_values(by='Composite Series of Average hours worked per year',ascending=False)"
   ]
  },
  {
   "cell_type": "code",
   "execution_count": 21,
   "metadata": {},
   "outputs": [],
   "source": [
    "#Hours increased from 2667.54 pa in 1760 to 3,475.26 pa in 1830"
   ]
  },
  {
   "cell_type": "code",
   "execution_count": 22,
   "metadata": {},
   "outputs": [
    {
     "name": "stdout",
     "output_type": "stream",
     "text": [
      "The number of hours worked increased by 30.3%\n"
     ]
    }
   ],
   "source": [
    "y = df_fir['Composite Series of Average hours worked per year'].max()\n",
    "x = df_fir['Composite Series of Average hours worked per year'].min()\n",
    "z = (y-x)/x*100\n",
    "\n",
    "print('The number of hours worked increased by {}%'.format(round(z,1)))"
   ]
  },
  {
   "cell_type": "code",
   "execution_count": 23,
   "metadata": {},
   "outputs": [
    {
     "data": {
      "text/plain": [
       "0.30279208559196863"
      ]
     },
     "execution_count": 23,
     "metadata": {},
     "output_type": "execute_result"
    }
   ],
   "source": [
    "(3475.25-2667.54)/2667.54"
   ]
  },
  {
   "cell_type": "markdown",
   "metadata": {},
   "source": [
    "#### Insights into Productivity"
   ]
  },
  {
   "cell_type": "code",
   "execution_count": 24,
   "metadata": {},
   "outputs": [],
   "source": [
    "labourprod_fir = labourprod_2.loc[1760:1840,:]"
   ]
  },
  {
   "cell_type": "code",
   "execution_count": 25,
   "metadata": {},
   "outputs": [
    {
     "data": {
      "text/html": [
       "<div>\n",
       "<style scoped>\n",
       "    .dataframe tbody tr th:only-of-type {\n",
       "        vertical-align: middle;\n",
       "    }\n",
       "\n",
       "    .dataframe tbody tr th {\n",
       "        vertical-align: top;\n",
       "    }\n",
       "\n",
       "    .dataframe thead th {\n",
       "        text-align: right;\n",
       "    }\n",
       "</style>\n",
       "<table border=\"1\" class=\"dataframe\">\n",
       "  <thead>\n",
       "    <tr style=\"text-align: right;\">\n",
       "      <th></th>\n",
       "      <th>Labour productivity per hour</th>\n",
       "    </tr>\n",
       "    <tr>\n",
       "      <th>Year</th>\n",
       "      <th></th>\n",
       "    </tr>\n",
       "  </thead>\n",
       "  <tbody>\n",
       "    <tr>\n",
       "      <th>1760</th>\n",
       "      <td>3.876609</td>\n",
       "    </tr>\n",
       "    <tr>\n",
       "      <th>1761</th>\n",
       "      <td>3.955297</td>\n",
       "    </tr>\n",
       "    <tr>\n",
       "      <th>1762</th>\n",
       "      <td>3.846189</td>\n",
       "    </tr>\n",
       "    <tr>\n",
       "      <th>1763</th>\n",
       "      <td>3.834284</td>\n",
       "    </tr>\n",
       "    <tr>\n",
       "      <th>1764</th>\n",
       "      <td>3.801639</td>\n",
       "    </tr>\n",
       "    <tr>\n",
       "      <th>...</th>\n",
       "      <td>...</td>\n",
       "    </tr>\n",
       "    <tr>\n",
       "      <th>1836</th>\n",
       "      <td>4.588622</td>\n",
       "    </tr>\n",
       "    <tr>\n",
       "      <th>1837</th>\n",
       "      <td>4.57572</td>\n",
       "    </tr>\n",
       "    <tr>\n",
       "      <th>1838</th>\n",
       "      <td>4.715315</td>\n",
       "    </tr>\n",
       "    <tr>\n",
       "      <th>1839</th>\n",
       "      <td>4.712775</td>\n",
       "    </tr>\n",
       "    <tr>\n",
       "      <th>1840</th>\n",
       "      <td>4.888968</td>\n",
       "    </tr>\n",
       "  </tbody>\n",
       "</table>\n",
       "<p>81 rows × 1 columns</p>\n",
       "</div>"
      ],
      "text/plain": [
       "     Labour productivity per hour\n",
       "Year                             \n",
       "1760                     3.876609\n",
       "1761                     3.955297\n",
       "1762                     3.846189\n",
       "1763                     3.834284\n",
       "1764                     3.801639\n",
       "...                           ...\n",
       "1836                     4.588622\n",
       "1837                      4.57572\n",
       "1838                     4.715315\n",
       "1839                     4.712775\n",
       "1840                     4.888968\n",
       "\n",
       "[81 rows x 1 columns]"
      ]
     },
     "execution_count": 25,
     "metadata": {},
     "output_type": "execute_result"
    }
   ],
   "source": [
    "labourprod_fir"
   ]
  },
  {
   "cell_type": "code",
   "execution_count": 26,
   "metadata": {},
   "outputs": [
    {
     "data": {
      "text/html": [
       "<div>\n",
       "<style scoped>\n",
       "    .dataframe tbody tr th:only-of-type {\n",
       "        vertical-align: middle;\n",
       "    }\n",
       "\n",
       "    .dataframe tbody tr th {\n",
       "        vertical-align: top;\n",
       "    }\n",
       "\n",
       "    .dataframe thead th {\n",
       "        text-align: right;\n",
       "    }\n",
       "</style>\n",
       "<table border=\"1\" class=\"dataframe\">\n",
       "  <thead>\n",
       "    <tr style=\"text-align: right;\">\n",
       "      <th></th>\n",
       "      <th>Labour productivity per hour</th>\n",
       "    </tr>\n",
       "    <tr>\n",
       "      <th>Year</th>\n",
       "      <th></th>\n",
       "    </tr>\n",
       "  </thead>\n",
       "  <tbody>\n",
       "    <tr>\n",
       "      <th>1788</th>\n",
       "      <td>3.370709</td>\n",
       "    </tr>\n",
       "    <tr>\n",
       "      <th>1789</th>\n",
       "      <td>3.387077</td>\n",
       "    </tr>\n",
       "    <tr>\n",
       "      <th>1787</th>\n",
       "      <td>3.409559</td>\n",
       "    </tr>\n",
       "    <tr>\n",
       "      <th>1794</th>\n",
       "      <td>3.431552</td>\n",
       "    </tr>\n",
       "    <tr>\n",
       "      <th>1774</th>\n",
       "      <td>3.482658</td>\n",
       "    </tr>\n",
       "    <tr>\n",
       "      <th>...</th>\n",
       "      <td>...</td>\n",
       "    </tr>\n",
       "    <tr>\n",
       "      <th>1837</th>\n",
       "      <td>4.57572</td>\n",
       "    </tr>\n",
       "    <tr>\n",
       "      <th>1836</th>\n",
       "      <td>4.588622</td>\n",
       "    </tr>\n",
       "    <tr>\n",
       "      <th>1839</th>\n",
       "      <td>4.712775</td>\n",
       "    </tr>\n",
       "    <tr>\n",
       "      <th>1838</th>\n",
       "      <td>4.715315</td>\n",
       "    </tr>\n",
       "    <tr>\n",
       "      <th>1840</th>\n",
       "      <td>4.888968</td>\n",
       "    </tr>\n",
       "  </tbody>\n",
       "</table>\n",
       "<p>81 rows × 1 columns</p>\n",
       "</div>"
      ],
      "text/plain": [
       "     Labour productivity per hour\n",
       "Year                             \n",
       "1788                     3.370709\n",
       "1789                     3.387077\n",
       "1787                     3.409559\n",
       "1794                     3.431552\n",
       "1774                     3.482658\n",
       "...                           ...\n",
       "1837                      4.57572\n",
       "1836                     4.588622\n",
       "1839                     4.712775\n",
       "1838                     4.715315\n",
       "1840                     4.888968\n",
       "\n",
       "[81 rows x 1 columns]"
      ]
     },
     "execution_count": 26,
     "metadata": {},
     "output_type": "execute_result"
    }
   ],
   "source": [
    "labourprod_fir.sort_values(by='Labour productivity per hour')"
   ]
  },
  {
   "cell_type": "code",
   "execution_count": 27,
   "metadata": {},
   "outputs": [
    {
     "data": {
      "text/plain": [
       "Labour productivity per hour    3.876609\n",
       "Name: 1760, dtype: object"
      ]
     },
     "execution_count": 27,
     "metadata": {},
     "output_type": "execute_result"
    }
   ],
   "source": [
    "#The lowest productivity was in 1788 at 3.3707\n",
    "#The Highest Productivity was in 1840 at 4.888968\n",
    "#Productivity for 1760:\n",
    "labourprod_fir.loc[1760,]"
   ]
  },
  {
   "cell_type": "code",
   "execution_count": 28,
   "metadata": {},
   "outputs": [
    {
     "name": "stdout",
     "output_type": "stream",
     "text": [
      "The productivity in 1760 was 3.9\n",
      "<class 'float'>\n"
     ]
    }
   ],
   "source": [
    "a = labourprod_fir.loc[1760,'Labour productivity per hour']\n",
    "print('The productivity in 1760 was {}'.format(round(a,1)))\n",
    "print(type(a))"
   ]
  },
  {
   "cell_type": "code",
   "execution_count": 29,
   "metadata": {},
   "outputs": [
    {
     "name": "stdout",
     "output_type": "stream",
     "text": [
      "26.1145631558326\n",
      "<class 'float'>\n",
      "<class 'float'>\n"
     ]
    }
   ],
   "source": [
    "b = labourprod_fir.loc[1840,'Labour productivity per hour']\n",
    "c = (b-a)/a*100\n",
    "print(c)\n",
    "print(type(b))\n",
    "print(type(c))"
   ]
  },
  {
   "cell_type": "code",
   "execution_count": 30,
   "metadata": {},
   "outputs": [
    {
     "name": "stdout",
     "output_type": "stream",
     "text": [
      "Labour productivity per hour increased by 26.1%\n"
     ]
    }
   ],
   "source": [
    "print('Labour productivity per hour increased by {}%'.format(round(c,1)))"
   ]
  },
  {
   "cell_type": "markdown",
   "metadata": {},
   "source": [
    "## Second Industrial revolution (c. 1859 – c. 1968)"
   ]
  },
  {
   "cell_type": "markdown",
   "metadata": {},
   "source": [
    "### Hours Worked Dataseta "
   ]
  },
  {
   "cell_type": "code",
   "execution_count": 31,
   "metadata": {},
   "outputs": [],
   "source": [
    "sir_df = df2.loc[1859:1968,:]"
   ]
  },
  {
   "cell_type": "code",
   "execution_count": 32,
   "metadata": {},
   "outputs": [
    {
     "data": {
      "text/html": [
       "<div>\n",
       "<style scoped>\n",
       "    .dataframe tbody tr th:only-of-type {\n",
       "        vertical-align: middle;\n",
       "    }\n",
       "\n",
       "    .dataframe tbody tr th {\n",
       "        vertical-align: top;\n",
       "    }\n",
       "\n",
       "    .dataframe thead th {\n",
       "        text-align: right;\n",
       "    }\n",
       "</style>\n",
       "<table border=\"1\" class=\"dataframe\">\n",
       "  <thead>\n",
       "    <tr style=\"text-align: right;\">\n",
       "      <th></th>\n",
       "      <th>Composite Series of Average hours worked per year</th>\n",
       "    </tr>\n",
       "    <tr>\n",
       "      <th>Year</th>\n",
       "      <th></th>\n",
       "    </tr>\n",
       "  </thead>\n",
       "  <tbody>\n",
       "    <tr>\n",
       "      <th>1859</th>\n",
       "      <td>3279.318658</td>\n",
       "    </tr>\n",
       "    <tr>\n",
       "      <th>1860</th>\n",
       "      <td>3273.030640</td>\n",
       "    </tr>\n",
       "    <tr>\n",
       "      <th>1861</th>\n",
       "      <td>3261.690572</td>\n",
       "    </tr>\n",
       "    <tr>\n",
       "      <th>1862</th>\n",
       "      <td>3247.861086</td>\n",
       "    </tr>\n",
       "    <tr>\n",
       "      <th>1863</th>\n",
       "      <td>3247.861086</td>\n",
       "    </tr>\n",
       "  </tbody>\n",
       "</table>\n",
       "</div>"
      ],
      "text/plain": [
       "      Composite Series of Average hours worked per year\n",
       "Year                                                   \n",
       "1859                                        3279.318658\n",
       "1860                                        3273.030640\n",
       "1861                                        3261.690572\n",
       "1862                                        3247.861086\n",
       "1863                                        3247.861086"
      ]
     },
     "execution_count": 32,
     "metadata": {},
     "output_type": "execute_result"
    }
   ],
   "source": [
    "sir_df.head()"
   ]
  },
  {
   "cell_type": "code",
   "execution_count": 33,
   "metadata": {},
   "outputs": [
    {
     "data": {
      "text/html": [
       "<div>\n",
       "<style scoped>\n",
       "    .dataframe tbody tr th:only-of-type {\n",
       "        vertical-align: middle;\n",
       "    }\n",
       "\n",
       "    .dataframe tbody tr th {\n",
       "        vertical-align: top;\n",
       "    }\n",
       "\n",
       "    .dataframe thead th {\n",
       "        text-align: right;\n",
       "    }\n",
       "</style>\n",
       "<table border=\"1\" class=\"dataframe\">\n",
       "  <thead>\n",
       "    <tr style=\"text-align: right;\">\n",
       "      <th></th>\n",
       "      <th>Composite Series of Average hours worked per year</th>\n",
       "    </tr>\n",
       "    <tr>\n",
       "      <th>Year</th>\n",
       "      <th></th>\n",
       "    </tr>\n",
       "  </thead>\n",
       "  <tbody>\n",
       "    <tr>\n",
       "      <th>1859</th>\n",
       "      <td>3279.318658</td>\n",
       "    </tr>\n",
       "    <tr>\n",
       "      <th>1860</th>\n",
       "      <td>3273.030640</td>\n",
       "    </tr>\n",
       "    <tr>\n",
       "      <th>1861</th>\n",
       "      <td>3261.690572</td>\n",
       "    </tr>\n",
       "    <tr>\n",
       "      <th>1863</th>\n",
       "      <td>3247.861086</td>\n",
       "    </tr>\n",
       "    <tr>\n",
       "      <th>1862</th>\n",
       "      <td>3247.861086</td>\n",
       "    </tr>\n",
       "    <tr>\n",
       "      <th>...</th>\n",
       "      <td>...</td>\n",
       "    </tr>\n",
       "    <tr>\n",
       "      <th>1963</th>\n",
       "      <td>2020.611986</td>\n",
       "    </tr>\n",
       "    <tr>\n",
       "      <th>1965</th>\n",
       "      <td>1997.583086</td>\n",
       "    </tr>\n",
       "    <tr>\n",
       "      <th>1966</th>\n",
       "      <td>1941.624457</td>\n",
       "    </tr>\n",
       "    <tr>\n",
       "      <th>1967</th>\n",
       "      <td>1929.542086</td>\n",
       "    </tr>\n",
       "    <tr>\n",
       "      <th>1968</th>\n",
       "      <td>1922.216093</td>\n",
       "    </tr>\n",
       "  </tbody>\n",
       "</table>\n",
       "<p>110 rows × 1 columns</p>\n",
       "</div>"
      ],
      "text/plain": [
       "      Composite Series of Average hours worked per year\n",
       "Year                                                   \n",
       "1859                                        3279.318658\n",
       "1860                                        3273.030640\n",
       "1861                                        3261.690572\n",
       "1863                                        3247.861086\n",
       "1862                                        3247.861086\n",
       "...                                                 ...\n",
       "1963                                        2020.611986\n",
       "1965                                        1997.583086\n",
       "1966                                        1941.624457\n",
       "1967                                        1929.542086\n",
       "1968                                        1922.216093\n",
       "\n",
       "[110 rows x 1 columns]"
      ]
     },
     "execution_count": 33,
     "metadata": {},
     "output_type": "execute_result"
    }
   ],
   "source": [
    "sir_df.sort_values(by='Composite Series of Average hours worked per year',ascending=False)"
   ]
  },
  {
   "cell_type": "code",
   "execution_count": 34,
   "metadata": {},
   "outputs": [
    {
     "name": "stdout",
     "output_type": "stream",
     "text": [
      "3279.318657819817\n"
     ]
    }
   ],
   "source": [
    "#highest value\n",
    "x = sir_df.loc[1859,'Composite Series of Average hours worked per year']\n",
    "print(x)"
   ]
  },
  {
   "cell_type": "code",
   "execution_count": 35,
   "metadata": {},
   "outputs": [
    {
     "name": "stdout",
     "output_type": "stream",
     "text": [
      "1922.2160925964254\n"
     ]
    }
   ],
   "source": [
    "#Lowest value\n",
    "y = sir_df.loc[1968,'Composite Series of Average hours worked per year']\n",
    "print(y)"
   ]
  },
  {
   "cell_type": "code",
   "execution_count": 36,
   "metadata": {},
   "outputs": [
    {
     "name": "stdout",
     "output_type": "stream",
     "text": [
      "1922.2160925964254\n"
     ]
    }
   ],
   "source": [
    "# Notice when we ref .loc[1968,:] the reslut is a series \n",
    "#data type not a float\n",
    "y2 = sir_df.loc[1968,:]\n",
    "print(y)"
   ]
  },
  {
   "cell_type": "code",
   "execution_count": 37,
   "metadata": {},
   "outputs": [
    {
     "name": "stdout",
     "output_type": "stream",
     "text": [
      "-41.38367468459535\n"
     ]
    }
   ],
   "source": [
    "#change\n",
    "z = (y-x)/x\n",
    "print(z*100)"
   ]
  },
  {
   "cell_type": "markdown",
   "metadata": {},
   "source": [
    "#### Insights into Productivity (c. 1859 – c. 1968)"
   ]
  },
  {
   "cell_type": "code",
   "execution_count": 38,
   "metadata": {},
   "outputs": [],
   "source": [
    "sir_labourprod = labourprod_2.loc[1859:1968,:].copy()"
   ]
  },
  {
   "cell_type": "code",
   "execution_count": 39,
   "metadata": {
    "scrolled": true
   },
   "outputs": [],
   "source": [
    "sir_labourprod['Labour productivity per hour'] = pd.to_numeric(sir_labourprod['Labour productivity per hour'])"
   ]
  },
  {
   "cell_type": "code",
   "execution_count": 40,
   "metadata": {},
   "outputs": [
    {
     "name": "stdout",
     "output_type": "stream",
     "text": [
      "      Labour productivity per hour\n",
      "Year                              \n",
      "1859                      5.964551\n",
      "1860                      5.976926\n",
      "1861                      6.106064\n",
      "1862                      6.133613\n",
      "1863                      6.378599\n",
      "<class 'pandas.core.frame.DataFrame'>\n",
      "Int64Index: 110 entries, 1859 to 1968\n",
      "Data columns (total 1 columns):\n",
      " #   Column                        Non-Null Count  Dtype  \n",
      "---  ------                        --------------  -----  \n",
      " 0   Labour productivity per hour  110 non-null    float64\n",
      "dtypes: float64(1)\n",
      "memory usage: 1.7 KB\n",
      "None\n"
     ]
    }
   ],
   "source": [
    "print(sir_labourprod.head())\n",
    "print(sir_labourprod.info())\n"
   ]
  },
  {
   "cell_type": "code",
   "execution_count": 41,
   "metadata": {},
   "outputs": [
    {
     "data": {
      "text/html": [
       "<div>\n",
       "<style scoped>\n",
       "    .dataframe tbody tr th:only-of-type {\n",
       "        vertical-align: middle;\n",
       "    }\n",
       "\n",
       "    .dataframe tbody tr th {\n",
       "        vertical-align: top;\n",
       "    }\n",
       "\n",
       "    .dataframe thead th {\n",
       "        text-align: right;\n",
       "    }\n",
       "</style>\n",
       "<table border=\"1\" class=\"dataframe\">\n",
       "  <thead>\n",
       "    <tr style=\"text-align: right;\">\n",
       "      <th></th>\n",
       "      <th>Labour productivity per hour</th>\n",
       "    </tr>\n",
       "    <tr>\n",
       "      <th>Year</th>\n",
       "      <th></th>\n",
       "    </tr>\n",
       "  </thead>\n",
       "  <tbody>\n",
       "    <tr>\n",
       "      <th>1859</th>\n",
       "      <td>5.964551</td>\n",
       "    </tr>\n",
       "    <tr>\n",
       "      <th>1860</th>\n",
       "      <td>5.976926</td>\n",
       "    </tr>\n",
       "    <tr>\n",
       "      <th>1861</th>\n",
       "      <td>6.106064</td>\n",
       "    </tr>\n",
       "    <tr>\n",
       "      <th>1862</th>\n",
       "      <td>6.133613</td>\n",
       "    </tr>\n",
       "    <tr>\n",
       "      <th>1864</th>\n",
       "      <td>6.342891</td>\n",
       "    </tr>\n",
       "    <tr>\n",
       "      <th>...</th>\n",
       "      <td>...</td>\n",
       "    </tr>\n",
       "    <tr>\n",
       "      <th>1964</th>\n",
       "      <td>33.406661</td>\n",
       "    </tr>\n",
       "    <tr>\n",
       "      <th>1965</th>\n",
       "      <td>34.327244</td>\n",
       "    </tr>\n",
       "    <tr>\n",
       "      <th>1966</th>\n",
       "      <td>35.608067</td>\n",
       "    </tr>\n",
       "    <tr>\n",
       "      <th>1967</th>\n",
       "      <td>37.139362</td>\n",
       "    </tr>\n",
       "    <tr>\n",
       "      <th>1968</th>\n",
       "      <td>39.662727</td>\n",
       "    </tr>\n",
       "  </tbody>\n",
       "</table>\n",
       "<p>110 rows × 1 columns</p>\n",
       "</div>"
      ],
      "text/plain": [
       "      Labour productivity per hour\n",
       "Year                              \n",
       "1859                      5.964551\n",
       "1860                      5.976926\n",
       "1861                      6.106064\n",
       "1862                      6.133613\n",
       "1864                      6.342891\n",
       "...                            ...\n",
       "1964                     33.406661\n",
       "1965                     34.327244\n",
       "1966                     35.608067\n",
       "1967                     37.139362\n",
       "1968                     39.662727\n",
       "\n",
       "[110 rows x 1 columns]"
      ]
     },
     "execution_count": 41,
     "metadata": {},
     "output_type": "execute_result"
    }
   ],
   "source": [
    "sir_labourprod.sort_values(by='Labour productivity per hour')"
   ]
  },
  {
   "cell_type": "code",
   "execution_count": 42,
   "metadata": {},
   "outputs": [
    {
     "name": "stdout",
     "output_type": "stream",
     "text": [
      "5.964550839241492\n",
      "39.66272714476637\n",
      "564.9742489211519\n"
     ]
    }
   ],
   "source": [
    "x = sir_labourprod.loc[1859,'Labour productivity per hour']\n",
    "y = sir_labourprod.loc[1968,'Labour productivity per hour']\n",
    "z = (y-x)/x\n",
    "print(x)\n",
    "print(y)\n",
    "print(z*100)"
   ]
  },
  {
   "cell_type": "markdown",
   "metadata": {},
   "source": [
    "Summary\n",
    "Labour hours decreased by 42% whilst at the same time labour productivity increased by 565%"
   ]
  },
  {
   "cell_type": "markdown",
   "metadata": {},
   "source": [
    "## Third Industrial revolution (c. 1969 – c. 2009)"
   ]
  },
  {
   "cell_type": "markdown",
   "metadata": {},
   "source": [
    "### Hours Worked Dataseta "
   ]
  },
  {
   "cell_type": "code",
   "execution_count": 43,
   "metadata": {},
   "outputs": [],
   "source": [
    "tir_df = df2.loc[1969:2009,:]"
   ]
  },
  {
   "cell_type": "code",
   "execution_count": 44,
   "metadata": {},
   "outputs": [
    {
     "name": "stdout",
     "output_type": "stream",
     "text": [
      "      Composite Series of Average hours worked per year\n",
      "Year                                                   \n",
      "1969                                        1912.619269\n",
      "1970                                        1870.908578\n",
      "1971                                        1830.156270\n",
      "1972                                        1851.352879\n",
      "1973                                        1860.252079\n",
      "<class 'pandas.core.frame.DataFrame'>\n",
      "Int64Index: 41 entries, 1969 to 2009\n",
      "Data columns (total 1 columns):\n",
      " #   Column                                             Non-Null Count  Dtype  \n",
      "---  ------                                             --------------  -----  \n",
      " 0   Composite Series of Average hours worked per year  41 non-null     float64\n",
      "dtypes: float64(1)\n",
      "memory usage: 656.0 bytes\n",
      "None\n"
     ]
    }
   ],
   "source": [
    "print(tir_df.head())\n",
    "print(tir_df.info())"
   ]
  },
  {
   "cell_type": "code",
   "execution_count": 45,
   "metadata": {},
   "outputs": [
    {
     "data": {
      "text/html": [
       "<div>\n",
       "<style scoped>\n",
       "    .dataframe tbody tr th:only-of-type {\n",
       "        vertical-align: middle;\n",
       "    }\n",
       "\n",
       "    .dataframe tbody tr th {\n",
       "        vertical-align: top;\n",
       "    }\n",
       "\n",
       "    .dataframe thead th {\n",
       "        text-align: right;\n",
       "    }\n",
       "</style>\n",
       "<table border=\"1\" class=\"dataframe\">\n",
       "  <thead>\n",
       "    <tr style=\"text-align: right;\">\n",
       "      <th></th>\n",
       "      <th>Composite Series of Average hours worked per year</th>\n",
       "    </tr>\n",
       "    <tr>\n",
       "      <th>Year</th>\n",
       "      <th></th>\n",
       "    </tr>\n",
       "  </thead>\n",
       "  <tbody>\n",
       "    <tr>\n",
       "      <th>2009</th>\n",
       "      <td>1638.339138</td>\n",
       "    </tr>\n",
       "    <tr>\n",
       "      <th>2008</th>\n",
       "      <td>1660.464470</td>\n",
       "    </tr>\n",
       "    <tr>\n",
       "      <th>2006</th>\n",
       "      <td>1663.988819</td>\n",
       "    </tr>\n",
       "    <tr>\n",
       "      <th>2007</th>\n",
       "      <td>1665.840698</td>\n",
       "    </tr>\n",
       "    <tr>\n",
       "      <th>2004</th>\n",
       "      <td>1666.704742</td>\n",
       "    </tr>\n",
       "    <tr>\n",
       "      <th>2003</th>\n",
       "      <td>1669.391056</td>\n",
       "    </tr>\n",
       "    <tr>\n",
       "      <th>2005</th>\n",
       "      <td>1669.733460</td>\n",
       "    </tr>\n",
       "    <tr>\n",
       "      <th>2002</th>\n",
       "      <td>1678.577044</td>\n",
       "    </tr>\n",
       "    <tr>\n",
       "      <th>2000</th>\n",
       "      <td>1692.934798</td>\n",
       "    </tr>\n",
       "    <tr>\n",
       "      <th>2001</th>\n",
       "      <td>1695.981072</td>\n",
       "    </tr>\n",
       "    <tr>\n",
       "      <th>1999</th>\n",
       "      <td>1708.612280</td>\n",
       "    </tr>\n",
       "    <tr>\n",
       "      <th>1993</th>\n",
       "      <td>1710.317017</td>\n",
       "    </tr>\n",
       "    <tr>\n",
       "      <th>1992</th>\n",
       "      <td>1714.316857</td>\n",
       "    </tr>\n",
       "    <tr>\n",
       "      <th>1998</th>\n",
       "      <td>1717.027962</td>\n",
       "    </tr>\n",
       "    <tr>\n",
       "      <th>1991</th>\n",
       "      <td>1720.500825</td>\n",
       "    </tr>\n",
       "    <tr>\n",
       "      <th>1994</th>\n",
       "      <td>1720.568419</td>\n",
       "    </tr>\n",
       "    <tr>\n",
       "      <th>1997</th>\n",
       "      <td>1721.200093</td>\n",
       "    </tr>\n",
       "    <tr>\n",
       "      <th>1996</th>\n",
       "      <td>1722.097602</td>\n",
       "    </tr>\n",
       "    <tr>\n",
       "      <th>1995</th>\n",
       "      <td>1722.635817</td>\n",
       "    </tr>\n",
       "    <tr>\n",
       "      <th>1983</th>\n",
       "      <td>1739.548800</td>\n",
       "    </tr>\n",
       "    <tr>\n",
       "      <th>1986</th>\n",
       "      <td>1742.737147</td>\n",
       "    </tr>\n",
       "    <tr>\n",
       "      <th>1982</th>\n",
       "      <td>1745.411316</td>\n",
       "    </tr>\n",
       "    <tr>\n",
       "      <th>1984</th>\n",
       "      <td>1745.739960</td>\n",
       "    </tr>\n",
       "    <tr>\n",
       "      <th>1990</th>\n",
       "      <td>1745.927089</td>\n",
       "    </tr>\n",
       "    <tr>\n",
       "      <th>1987</th>\n",
       "      <td>1747.547138</td>\n",
       "    </tr>\n",
       "    <tr>\n",
       "      <th>1985</th>\n",
       "      <td>1748.085533</td>\n",
       "    </tr>\n",
       "    <tr>\n",
       "      <th>1981</th>\n",
       "      <td>1749.093730</td>\n",
       "    </tr>\n",
       "    <tr>\n",
       "      <th>1988</th>\n",
       "      <td>1754.714688</td>\n",
       "    </tr>\n",
       "    <tr>\n",
       "      <th>1989</th>\n",
       "      <td>1758.556227</td>\n",
       "    </tr>\n",
       "    <tr>\n",
       "      <th>1980</th>\n",
       "      <td>1785.317546</td>\n",
       "    </tr>\n",
       "    <tr>\n",
       "      <th>1976</th>\n",
       "      <td>1807.024655</td>\n",
       "    </tr>\n",
       "    <tr>\n",
       "      <th>1975</th>\n",
       "      <td>1814.066691</td>\n",
       "    </tr>\n",
       "    <tr>\n",
       "      <th>1979</th>\n",
       "      <td>1815.501998</td>\n",
       "    </tr>\n",
       "    <tr>\n",
       "      <th>1977</th>\n",
       "      <td>1816.929086</td>\n",
       "    </tr>\n",
       "    <tr>\n",
       "      <th>1978</th>\n",
       "      <td>1818.035671</td>\n",
       "    </tr>\n",
       "    <tr>\n",
       "      <th>1971</th>\n",
       "      <td>1830.156270</td>\n",
       "    </tr>\n",
       "    <tr>\n",
       "      <th>1974</th>\n",
       "      <td>1845.308542</td>\n",
       "    </tr>\n",
       "    <tr>\n",
       "      <th>1972</th>\n",
       "      <td>1851.352879</td>\n",
       "    </tr>\n",
       "    <tr>\n",
       "      <th>1973</th>\n",
       "      <td>1860.252079</td>\n",
       "    </tr>\n",
       "    <tr>\n",
       "      <th>1970</th>\n",
       "      <td>1870.908578</td>\n",
       "    </tr>\n",
       "    <tr>\n",
       "      <th>1969</th>\n",
       "      <td>1912.619269</td>\n",
       "    </tr>\n",
       "  </tbody>\n",
       "</table>\n",
       "</div>"
      ],
      "text/plain": [
       "      Composite Series of Average hours worked per year\n",
       "Year                                                   \n",
       "2009                                        1638.339138\n",
       "2008                                        1660.464470\n",
       "2006                                        1663.988819\n",
       "2007                                        1665.840698\n",
       "2004                                        1666.704742\n",
       "2003                                        1669.391056\n",
       "2005                                        1669.733460\n",
       "2002                                        1678.577044\n",
       "2000                                        1692.934798\n",
       "2001                                        1695.981072\n",
       "1999                                        1708.612280\n",
       "1993                                        1710.317017\n",
       "1992                                        1714.316857\n",
       "1998                                        1717.027962\n",
       "1991                                        1720.500825\n",
       "1994                                        1720.568419\n",
       "1997                                        1721.200093\n",
       "1996                                        1722.097602\n",
       "1995                                        1722.635817\n",
       "1983                                        1739.548800\n",
       "1986                                        1742.737147\n",
       "1982                                        1745.411316\n",
       "1984                                        1745.739960\n",
       "1990                                        1745.927089\n",
       "1987                                        1747.547138\n",
       "1985                                        1748.085533\n",
       "1981                                        1749.093730\n",
       "1988                                        1754.714688\n",
       "1989                                        1758.556227\n",
       "1980                                        1785.317546\n",
       "1976                                        1807.024655\n",
       "1975                                        1814.066691\n",
       "1979                                        1815.501998\n",
       "1977                                        1816.929086\n",
       "1978                                        1818.035671\n",
       "1971                                        1830.156270\n",
       "1974                                        1845.308542\n",
       "1972                                        1851.352879\n",
       "1973                                        1860.252079\n",
       "1970                                        1870.908578\n",
       "1969                                        1912.619269"
      ]
     },
     "execution_count": 45,
     "metadata": {},
     "output_type": "execute_result"
    }
   ],
   "source": [
    "tir_df.sort_values(by='Composite Series of Average hours worked per year')"
   ]
  },
  {
   "cell_type": "code",
   "execution_count": 46,
   "metadata": {},
   "outputs": [],
   "source": [
    "#Highest value\n",
    "x = tir_df['Composite Series of Average hours worked per year'].max()"
   ]
  },
  {
   "cell_type": "code",
   "execution_count": 47,
   "metadata": {},
   "outputs": [
    {
     "name": "stdout",
     "output_type": "stream",
     "text": [
      "<class 'float'>\n"
     ]
    }
   ],
   "source": [
    "print(type(x))"
   ]
  },
  {
   "cell_type": "code",
   "execution_count": 48,
   "metadata": {},
   "outputs": [],
   "source": [
    "#lowest value\n",
    "y = tir_df['Composite Series of Average hours worked per year'].min()"
   ]
  },
  {
   "cell_type": "code",
   "execution_count": 49,
   "metadata": {},
   "outputs": [
    {
     "name": "stdout",
     "output_type": "stream",
     "text": [
      "1638.3391375259282\n"
     ]
    }
   ],
   "source": [
    "print(y)"
   ]
  },
  {
   "cell_type": "code",
   "execution_count": 50,
   "metadata": {},
   "outputs": [],
   "source": [
    "my_max_ind = tir_df['Composite Series of Average hours worked per year'].idxmax()   "
   ]
  },
  {
   "cell_type": "code",
   "execution_count": 51,
   "metadata": {},
   "outputs": [
    {
     "data": {
      "text/plain": [
       "1969"
      ]
     },
     "execution_count": 51,
     "metadata": {},
     "output_type": "execute_result"
    }
   ],
   "source": [
    "my_max_ind"
   ]
  },
  {
   "cell_type": "code",
   "execution_count": 52,
   "metadata": {},
   "outputs": [],
   "source": [
    "my_min_ind = tir_df['Composite Series of Average hours worked per year'].idxmin()"
   ]
  },
  {
   "cell_type": "code",
   "execution_count": 53,
   "metadata": {},
   "outputs": [
    {
     "data": {
      "text/plain": [
       "2009"
      ]
     },
     "execution_count": 53,
     "metadata": {},
     "output_type": "execute_result"
    }
   ],
   "source": [
    "my_min_ind"
   ]
  },
  {
   "cell_type": "code",
   "execution_count": 54,
   "metadata": {
    "scrolled": true
   },
   "outputs": [
    {
     "name": "stdout",
     "output_type": "stream",
     "text": [
      "-14.340550465165002\n"
     ]
    }
   ],
   "source": [
    "#change in hours\n",
    "z = (y-x)/x\n",
    "print(z*100)"
   ]
  },
  {
   "cell_type": "markdown",
   "metadata": {},
   "source": [
    "#### Insights into Productivity pr hour worked (c. 1969 – c. 2009)"
   ]
  },
  {
   "cell_type": "code",
   "execution_count": 55,
   "metadata": {},
   "outputs": [
    {
     "data": {
      "text/html": [
       "<div>\n",
       "<style scoped>\n",
       "    .dataframe tbody tr th:only-of-type {\n",
       "        vertical-align: middle;\n",
       "    }\n",
       "\n",
       "    .dataframe tbody tr th {\n",
       "        vertical-align: top;\n",
       "    }\n",
       "\n",
       "    .dataframe thead th {\n",
       "        text-align: right;\n",
       "    }\n",
       "</style>\n",
       "<table border=\"1\" class=\"dataframe\">\n",
       "  <thead>\n",
       "    <tr style=\"text-align: right;\">\n",
       "      <th></th>\n",
       "      <th>Labour productivity per hour</th>\n",
       "    </tr>\n",
       "    <tr>\n",
       "      <th>Year</th>\n",
       "      <th></th>\n",
       "    </tr>\n",
       "  </thead>\n",
       "  <tbody>\n",
       "    <tr>\n",
       "      <th>1969</th>\n",
       "      <td>40.671955</td>\n",
       "    </tr>\n",
       "    <tr>\n",
       "      <th>1970</th>\n",
       "      <td>42.832416</td>\n",
       "    </tr>\n",
       "    <tr>\n",
       "      <th>1971</th>\n",
       "      <td>45.865274</td>\n",
       "    </tr>\n",
       "    <tr>\n",
       "      <th>1972</th>\n",
       "      <td>47.083601</td>\n",
       "    </tr>\n",
       "    <tr>\n",
       "      <th>1973</th>\n",
       "      <td>49.287554</td>\n",
       "    </tr>\n",
       "    <tr>\n",
       "      <th>1974</th>\n",
       "      <td>48.43206</td>\n",
       "    </tr>\n",
       "    <tr>\n",
       "      <th>1975</th>\n",
       "      <td>48.735189</td>\n",
       "    </tr>\n",
       "    <tr>\n",
       "      <th>1976</th>\n",
       "      <td>50.697776</td>\n",
       "    </tr>\n",
       "    <tr>\n",
       "      <th>1977</th>\n",
       "      <td>51.63255</td>\n",
       "    </tr>\n",
       "    <tr>\n",
       "      <th>1978</th>\n",
       "      <td>53.18353</td>\n",
       "    </tr>\n",
       "    <tr>\n",
       "      <th>1979</th>\n",
       "      <td>54.517593</td>\n",
       "    </tr>\n",
       "    <tr>\n",
       "      <th>1980</th>\n",
       "      <td>54.580654</td>\n",
       "    </tr>\n",
       "    <tr>\n",
       "      <th>1981</th>\n",
       "      <td>56.789588</td>\n",
       "    </tr>\n",
       "    <tr>\n",
       "      <th>1982</th>\n",
       "      <td>59.277251</td>\n",
       "    </tr>\n",
       "    <tr>\n",
       "      <th>1983</th>\n",
       "      <td>62.369947</td>\n",
       "    </tr>\n",
       "    <tr>\n",
       "      <th>1984</th>\n",
       "      <td>62.016912</td>\n",
       "    </tr>\n",
       "    <tr>\n",
       "      <th>1985</th>\n",
       "      <td>63.891713</td>\n",
       "    </tr>\n",
       "    <tr>\n",
       "      <th>1986</th>\n",
       "      <td>65.485664</td>\n",
       "    </tr>\n",
       "    <tr>\n",
       "      <th>1987</th>\n",
       "      <td>67.402873</td>\n",
       "    </tr>\n",
       "    <tr>\n",
       "      <th>1988</th>\n",
       "      <td>68.690428</td>\n",
       "    </tr>\n",
       "    <tr>\n",
       "      <th>1989</th>\n",
       "      <td>68.567242</td>\n",
       "    </tr>\n",
       "    <tr>\n",
       "      <th>1990</th>\n",
       "      <td>69.3358</td>\n",
       "    </tr>\n",
       "    <tr>\n",
       "      <th>1991</th>\n",
       "      <td>71.772345</td>\n",
       "    </tr>\n",
       "    <tr>\n",
       "      <th>1992</th>\n",
       "      <td>74.162251</td>\n",
       "    </tr>\n",
       "    <tr>\n",
       "      <th>1993</th>\n",
       "      <td>77.008083</td>\n",
       "    </tr>\n",
       "    <tr>\n",
       "      <th>1994</th>\n",
       "      <td>78.665862</td>\n",
       "    </tr>\n",
       "    <tr>\n",
       "      <th>1995</th>\n",
       "      <td>79.300316</td>\n",
       "    </tr>\n",
       "    <tr>\n",
       "      <th>1996</th>\n",
       "      <td>80.437719</td>\n",
       "    </tr>\n",
       "    <tr>\n",
       "      <th>1997</th>\n",
       "      <td>81.351737</td>\n",
       "    </tr>\n",
       "    <tr>\n",
       "      <th>1998</th>\n",
       "      <td>83.430424</td>\n",
       "    </tr>\n",
       "    <tr>\n",
       "      <th>1999</th>\n",
       "      <td>85.517591</td>\n",
       "    </tr>\n",
       "    <tr>\n",
       "      <th>2000</th>\n",
       "      <td>88.558233</td>\n",
       "    </tr>\n",
       "    <tr>\n",
       "      <th>2001</th>\n",
       "      <td>89.826484</td>\n",
       "    </tr>\n",
       "    <tr>\n",
       "      <th>2002</th>\n",
       "      <td>91.911123</td>\n",
       "    </tr>\n",
       "    <tr>\n",
       "      <th>2003</th>\n",
       "      <td>94.753107</td>\n",
       "    </tr>\n",
       "    <tr>\n",
       "      <th>2004</th>\n",
       "      <td>96.063814</td>\n",
       "    </tr>\n",
       "    <tr>\n",
       "      <th>2005</th>\n",
       "      <td>97.952187</td>\n",
       "    </tr>\n",
       "    <tr>\n",
       "      <th>2006</th>\n",
       "      <td>99.738389</td>\n",
       "    </tr>\n",
       "    <tr>\n",
       "      <th>2007</th>\n",
       "      <td>101.316276</td>\n",
       "    </tr>\n",
       "    <tr>\n",
       "      <th>2008</th>\n",
       "      <td>100.366378</td>\n",
       "    </tr>\n",
       "    <tr>\n",
       "      <th>2009</th>\n",
       "      <td>98.640522</td>\n",
       "    </tr>\n",
       "  </tbody>\n",
       "</table>\n",
       "</div>"
      ],
      "text/plain": [
       "     Labour productivity per hour\n",
       "Year                             \n",
       "1969                    40.671955\n",
       "1970                    42.832416\n",
       "1971                    45.865274\n",
       "1972                    47.083601\n",
       "1973                    49.287554\n",
       "1974                     48.43206\n",
       "1975                    48.735189\n",
       "1976                    50.697776\n",
       "1977                     51.63255\n",
       "1978                     53.18353\n",
       "1979                    54.517593\n",
       "1980                    54.580654\n",
       "1981                    56.789588\n",
       "1982                    59.277251\n",
       "1983                    62.369947\n",
       "1984                    62.016912\n",
       "1985                    63.891713\n",
       "1986                    65.485664\n",
       "1987                    67.402873\n",
       "1988                    68.690428\n",
       "1989                    68.567242\n",
       "1990                      69.3358\n",
       "1991                    71.772345\n",
       "1992                    74.162251\n",
       "1993                    77.008083\n",
       "1994                    78.665862\n",
       "1995                    79.300316\n",
       "1996                    80.437719\n",
       "1997                    81.351737\n",
       "1998                    83.430424\n",
       "1999                    85.517591\n",
       "2000                    88.558233\n",
       "2001                    89.826484\n",
       "2002                    91.911123\n",
       "2003                    94.753107\n",
       "2004                    96.063814\n",
       "2005                    97.952187\n",
       "2006                    99.738389\n",
       "2007                   101.316276\n",
       "2008                   100.366378\n",
       "2009                    98.640522"
      ]
     },
     "execution_count": 55,
     "metadata": {},
     "output_type": "execute_result"
    }
   ],
   "source": [
    "tir_labourprod = labourprod_2.loc[1969:2009,:].copy()\n",
    "tir_labourprod\n"
   ]
  },
  {
   "cell_type": "code",
   "execution_count": 56,
   "metadata": {
    "scrolled": true
   },
   "outputs": [
    {
     "name": "stdout",
     "output_type": "stream",
     "text": [
      "<class 'pandas.core.frame.DataFrame'>\n",
      "Int64Index: 41 entries, 1969 to 2009\n",
      "Data columns (total 1 columns):\n",
      " #   Column                        Non-Null Count  Dtype \n",
      "---  ------                        --------------  ----- \n",
      " 0   Labour productivity per hour  41 non-null     object\n",
      "dtypes: object(1)\n",
      "memory usage: 656.0+ bytes\n",
      "None\n",
      "     Labour productivity per hour\n",
      "Year                             \n",
      "1969                    40.671955\n",
      "1970                    42.832416\n",
      "1971                    45.865274\n",
      "1972                    47.083601\n",
      "1973                    49.287554\n"
     ]
    }
   ],
   "source": [
    "print(tir_labourprod.info())\n",
    "print(tir_labourprod.head())"
   ]
  },
  {
   "cell_type": "code",
   "execution_count": 57,
   "metadata": {},
   "outputs": [],
   "source": [
    "tir_labourprod['Labour productivity per hour'] = pd.to_numeric(tir_labourprod['Labour productivity per hour'])"
   ]
  },
  {
   "cell_type": "code",
   "execution_count": 58,
   "metadata": {},
   "outputs": [
    {
     "data": {
      "text/plain": [
       "101.3162759771242"
      ]
     },
     "execution_count": 58,
     "metadata": {},
     "output_type": "execute_result"
    }
   ],
   "source": [
    "#Highest Productivity per hour value \n",
    "tir_labourprod['Labour productivity per hour'].max()\n"
   ]
  },
  {
   "cell_type": "code",
   "execution_count": 59,
   "metadata": {},
   "outputs": [
    {
     "name": "stdout",
     "output_type": "stream",
     "text": [
      "2007\n"
     ]
    }
   ],
   "source": [
    "#Year\n",
    "max_ind = tir_labourprod['Labour productivity per hour'].idxmax()\n",
    "print(max_ind)"
   ]
  },
  {
   "cell_type": "code",
   "execution_count": 60,
   "metadata": {},
   "outputs": [
    {
     "name": "stdout",
     "output_type": "stream",
     "text": [
      "40.67195488157948\n",
      "float64\n"
     ]
    }
   ],
   "source": [
    "#Prod ph at beginning of period \n",
    "x = tir_labourprod.loc[1969,'Labour productivity per hour']\n",
    "print(x)\n",
    "print(x.dtype)"
   ]
  },
  {
   "cell_type": "code",
   "execution_count": 61,
   "metadata": {},
   "outputs": [
    {
     "name": "stdout",
     "output_type": "stream",
     "text": [
      "98.6405218028266\n",
      "float64\n"
     ]
    }
   ],
   "source": [
    "#Prod ph at end of period \n",
    "y = tir_labourprod.loc[2009,'Labour productivity per hour']\n",
    "print(y)\n",
    "print(y.dtype)"
   ]
  },
  {
   "cell_type": "code",
   "execution_count": 62,
   "metadata": {},
   "outputs": [
    {
     "name": "stdout",
     "output_type": "stream",
     "text": [
      "142.52712241156954\n"
     ]
    }
   ],
   "source": [
    "#Change in prod ph from beginning to end of period\n",
    "z = (y-x)/x\n",
    "print(z*100)"
   ]
  },
  {
   "cell_type": "code",
   "execution_count": 63,
   "metadata": {},
   "outputs": [
    {
     "name": "stdout",
     "output_type": "stream",
     "text": [
      "101.3162759771242\n",
      "149.10599028769778\n"
     ]
    }
   ],
   "source": [
    "#Highest productivity ph\n",
    "y2 = tir_labourprod['Labour productivity per hour'].max()\n",
    "print(y2)\n",
    "#Change in prod ph from lowest to highest\n",
    "z2  = (y2 - x)/x\n",
    "print(z2*100)"
   ]
  },
  {
   "cell_type": "code",
   "execution_count": 64,
   "metadata": {},
   "outputs": [
    {
     "name": "stdout",
     "output_type": "stream",
     "text": [
      "-2.640991438435574\n"
     ]
    }
   ],
   "source": [
    "#Decrease in productivity ph from highest to 2009\n",
    "z3 = (y-y2)/y2\n",
    "print(z3*100)"
   ]
  },
  {
   "cell_type": "markdown",
   "metadata": {},
   "source": [
    "Potentially the decrease in productivity can be explained by GFC?"
   ]
  },
  {
   "cell_type": "markdown",
   "metadata": {},
   "source": [
    "## Fourth Industrial revolution (c. 2010 – 2016)"
   ]
  },
  {
   "cell_type": "markdown",
   "metadata": {},
   "source": [
    "### Hours Worked Dataseta "
   ]
  },
  {
   "cell_type": "code",
   "execution_count": 66,
   "metadata": {},
   "outputs": [
    {
     "name": "stdout",
     "output_type": "stream",
     "text": [
      "      Composite Series of Average hours worked per year\n",
      "Year                                                   \n",
      "2010                                        1643.197544\n",
      "2011                                        1641.328061\n",
      "2012                                        1655.088908\n",
      "2013                                        1665.881757\n",
      "2014                                        1672.252314\n",
      "2015                                        1669.058715\n",
      "2016                                        1668.388685\n",
      "<class 'pandas.core.frame.DataFrame'>\n",
      "Int64Index: 7 entries, 2010 to 2016\n",
      "Data columns (total 1 columns):\n",
      " #   Column                                             Non-Null Count  Dtype  \n",
      "---  ------                                             --------------  -----  \n",
      " 0   Composite Series of Average hours worked per year  7 non-null      float64\n",
      "dtypes: float64(1)\n",
      "memory usage: 112.0 bytes\n",
      "None\n"
     ]
    }
   ],
   "source": [
    "four_df = df2.loc[2010:2016,:]\n",
    "print(four_df)\n",
    "print(four_df.info())"
   ]
  },
  {
   "cell_type": "code",
   "execution_count": 71,
   "metadata": {},
   "outputs": [
    {
     "name": "stdout",
     "output_type": "stream",
     "text": [
      "1643.1975440892961\n",
      "float64\n"
     ]
    }
   ],
   "source": [
    "#Average hrs pa at beginning 2010\n",
    "x = four_df.loc[2010,'Composite Series of Average hours worked per year']\n",
    "print(x)\n",
    "print(x.dtype)"
   ]
  },
  {
   "cell_type": "code",
   "execution_count": 72,
   "metadata": {},
   "outputs": [
    {
     "name": "stdout",
     "output_type": "stream",
     "text": [
      "1668.388685138842\n",
      "float64\n"
     ]
    }
   ],
   "source": [
    "#Average hrs pa at end 2016\n",
    "y = four_df.loc[2016,'Composite Series of Average hours worked per year']\n",
    "print(y)\n",
    "print(y.dtype)"
   ]
  },
  {
   "cell_type": "code",
   "execution_count": 73,
   "metadata": {},
   "outputs": [
    {
     "name": "stdout",
     "output_type": "stream",
     "text": [
      "1.533056152631209\n"
     ]
    }
   ],
   "source": [
    "#Change in average hours worked\n",
    "z = (y-x)/x\n",
    "print(z*100)"
   ]
  },
  {
   "cell_type": "markdown",
   "metadata": {},
   "source": [
    "#### Insights into Productivity pr hour worked (c. 2010 – 2016)"
   ]
  },
  {
   "cell_type": "code",
   "execution_count": 82,
   "metadata": {},
   "outputs": [],
   "source": [
    "four_labourprod =  labourprod_2.loc[2010:2016,:].copy()"
   ]
  },
  {
   "cell_type": "code",
   "execution_count": 83,
   "metadata": {},
   "outputs": [
    {
     "name": "stdout",
     "output_type": "stream",
     "text": [
      "     Labour productivity per hour\n",
      "Year                             \n",
      "2010                   100.061768\n",
      "2011                   101.137379\n",
      "2012                   100.329294\n",
      "2013                          100\n",
      "2014                     100.6366\n",
      "2015                   101.508603\n",
      "2016                   101.978408\n",
      "<class 'pandas.core.frame.DataFrame'>\n",
      "Int64Index: 7 entries, 2010 to 2016\n",
      "Data columns (total 1 columns):\n",
      " #   Column                        Non-Null Count  Dtype \n",
      "---  ------                        --------------  ----- \n",
      " 0   Labour productivity per hour  7 non-null      object\n",
      "dtypes: object(1)\n",
      "memory usage: 112.0+ bytes\n",
      "None\n"
     ]
    }
   ],
   "source": [
    "print(four_labourprod)\n",
    "print(four_labourprod.info())"
   ]
  },
  {
   "cell_type": "code",
   "execution_count": 85,
   "metadata": {},
   "outputs": [],
   "source": [
    "#Cast labour productivity per hour to numeric value\n",
    "four_labourprod['Labour productivity per hour'] = pd.to_numeric(four_labourprod['Labour productivity per hour'])"
   ]
  },
  {
   "cell_type": "code",
   "execution_count": 86,
   "metadata": {},
   "outputs": [],
   "source": [
    "#Prod at beginning\n",
    "x = four_labourprod.loc[2010,'Labour productivity per hour']"
   ]
  },
  {
   "cell_type": "code",
   "execution_count": 87,
   "metadata": {},
   "outputs": [
    {
     "name": "stdout",
     "output_type": "stream",
     "text": [
      "100.0617675685051\n"
     ]
    },
    {
     "data": {
      "text/plain": [
       "dtype('float64')"
      ]
     },
     "execution_count": 87,
     "metadata": {},
     "output_type": "execute_result"
    }
   ],
   "source": [
    "print(x)\n",
    "x.dtype"
   ]
  },
  {
   "cell_type": "code",
   "execution_count": 88,
   "metadata": {},
   "outputs": [],
   "source": [
    "y = four_labourprod.loc[2016,'Labour productivity per hour']"
   ]
  },
  {
   "cell_type": "code",
   "execution_count": 89,
   "metadata": {},
   "outputs": [
    {
     "data": {
      "text/plain": [
       "101.97840766276713"
      ]
     },
     "execution_count": 89,
     "metadata": {},
     "output_type": "execute_result"
    }
   ],
   "source": [
    "y"
   ]
  },
  {
   "cell_type": "code",
   "execution_count": 90,
   "metadata": {},
   "outputs": [
    {
     "data": {
      "text/plain": [
       "dtype('float64')"
      ]
     },
     "execution_count": 90,
     "metadata": {},
     "output_type": "execute_result"
    }
   ],
   "source": [
    "y.dtype"
   ]
  },
  {
   "cell_type": "code",
   "execution_count": 91,
   "metadata": {},
   "outputs": [
    {
     "name": "stdout",
     "output_type": "stream",
     "text": [
      "1.9154569630701712\n"
     ]
    }
   ],
   "source": [
    "z = (y-x)/x\n",
    "print(z*100)"
   ]
  },
  {
   "cell_type": "code",
   "execution_count": null,
   "metadata": {},
   "outputs": [],
   "source": []
  }
 ],
 "metadata": {
  "kernelspec": {
   "display_name": "Python 3 (ipykernel)",
   "language": "python",
   "name": "python3"
  },
  "language_info": {
   "codemirror_mode": {
    "name": "ipython",
    "version": 3
   },
   "file_extension": ".py",
   "mimetype": "text/x-python",
   "name": "python",
   "nbconvert_exporter": "python",
   "pygments_lexer": "ipython3",
   "version": "3.9.7"
  }
 },
 "nbformat": 4,
 "nbformat_minor": 2
}
